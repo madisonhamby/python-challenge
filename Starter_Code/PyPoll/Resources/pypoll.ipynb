{
 "cells": [
  {
   "cell_type": "code",
   "execution_count": 2,
   "metadata": {},
   "outputs": [],
   "source": [
    "#Dependencies\n",
    "import pandas as pd\n",
    "from pathlib import Path\n"
   ]
  },
  {
   "cell_type": "code",
   "execution_count": 3,
   "metadata": {},
   "outputs": [],
   "source": [
    "# Store filepath in a variable\n",
    "election_file=Path('..', 'Resources', 'election_data.csv')"
   ]
  },
  {
   "cell_type": "code",
   "execution_count": 12,
   "metadata": {},
   "outputs": [],
   "source": [
    "# Read our data file with the Pandas library\n",
    "\n",
    "election_file_df=pd.read_csv(election_file)\n"
   ]
  },
  {
   "cell_type": "code",
   "execution_count": 20,
   "metadata": {},
   "outputs": [
    {
     "data": {
      "text/plain": [
       "369711"
      ]
     },
     "execution_count": 20,
     "metadata": {},
     "output_type": "execute_result"
    }
   ],
   "source": [
    "# Calculate the total number of votes\n",
    "\n",
    "total_votes=len(election_file_df)\n",
    "total_votes"
   ]
  },
  {
   "cell_type": "code",
   "execution_count": 21,
   "metadata": {},
   "outputs": [
    {
     "data": {
      "text/plain": [
       "Candidate\n",
       "Diana DeGette              272892\n",
       "Charles Casper Stockham     85213\n",
       "Raymon Anthony Doane        11606\n",
       "Name: count, dtype: int64"
      ]
     },
     "execution_count": 21,
     "metadata": {},
     "output_type": "execute_result"
    }
   ],
   "source": [
    "# Calculate the number of candidates and their votes\n",
    "candidate_count=election_file_df[\"Candidate\"].value_counts()\n",
    "candidate_count"
   ]
  },
  {
   "cell_type": "code",
   "execution_count": 22,
   "metadata": {},
   "outputs": [
    {
     "data": {
      "text/plain": [
       "Candidate\n",
       "Diana DeGette              73.812248\n",
       "Charles Casper Stockham    23.048543\n",
       "Raymon Anthony Doane        3.139209\n",
       "Name: count, dtype: float64"
      ]
     },
     "execution_count": 22,
     "metadata": {},
     "output_type": "execute_result"
    }
   ],
   "source": [
    "# Calculate the percentage of votes each candidate has \n",
    "\n",
    "percentage_votes=(candidate_count / total_votes)*100\n",
    "percentage_votes"
   ]
  },
  {
   "cell_type": "code",
   "execution_count": 23,
   "metadata": {},
   "outputs": [
    {
     "data": {
      "text/plain": [
       "'Diana DeGette'"
      ]
     },
     "execution_count": 23,
     "metadata": {},
     "output_type": "execute_result"
    }
   ],
   "source": [
    "# Determine the winner \n",
    "winner=candidate_count.idxmax()\n",
    "winner"
   ]
  },
  {
   "cell_type": "code",
   "execution_count": 26,
   "metadata": {},
   "outputs": [
    {
     "name": "stdout",
     "output_type": "stream",
     "text": [
      "Election Results\n",
      "-------------------------------\n",
      "Total Votes: 369711\n",
      "-------------------------------\n",
      "Stockham 23.049%(85213)\n",
      "Degette 73.812%(272892)\n",
      "Doane 3.139%(11606)\n",
      "-------------------------------\n",
      "Winner: Diana DeGette\n",
      "-------------------------------\n"
     ]
    }
   ],
   "source": [
    "# Print the results\n",
    "print(f\"Election Results\")\n",
    "print(f\"-------------------------------\")\n",
    "print(f\"Total Votes: {total_votes}\")\n",
    "print(f\"-------------------------------\")\n",
    "print(f\"Stockham\" + \" \" + str(round(percentage_votes[1],3)) + \"%\" + \"(\"+str(candidate_count[1])+\")\")\n",
    "print(f\"Degette\" + \" \" + str(round(percentage_votes[0],3)) + \"%\" + \"(\"+str(candidate_count[0])+\")\")\n",
    "print(f\"Doane\" + \" \" + str(round(percentage_votes[2],3)) + \"%\" + \"(\"+str(candidate_count[2])+\")\")\n",
    "print(f\"-------------------------------\")\n",
    "print(\"Winner: \" + winner)\n",
    "print(f\"-------------------------------\")"
   ]
  },
  {
   "cell_type": "code",
   "execution_count": 3,
   "metadata": {},
   "outputs": [
    {
     "ename": "NameError",
     "evalue": "name 'Path' is not defined",
     "output_type": "error",
     "traceback": [
      "\u001b[0;31m---------------------------------------------------------------------------\u001b[0m",
      "\u001b[0;31mNameError\u001b[0m                                 Traceback (most recent call last)",
      "\u001b[1;32m/Users/madisonhamby/Documents/UCI Data Analytics Bootcamp/python-challenge/Starter_Code/PyPoll/Resources/pypoll.ipynb Cell 9\u001b[0m line \u001b[0;36m3\n\u001b[1;32m      <a href='vscode-notebook-cell:/Users/madisonhamby/Documents/UCI%20Data%20Analytics%20Bootcamp/python-challenge/Starter_Code/PyPoll/Resources/pypoll.ipynb#X12sZmlsZQ%3D%3D?line=0'>1</a>\u001b[0m \u001b[39m# Export the results to a text file\u001b[39;00m\n\u001b[0;32m----> <a href='vscode-notebook-cell:/Users/madisonhamby/Documents/UCI%20Data%20Analytics%20Bootcamp/python-challenge/Starter_Code/PyPoll/Resources/pypoll.ipynb#X12sZmlsZQ%3D%3D?line=2'>3</a>\u001b[0m output_file\u001b[39m=\u001b[39mPath(\u001b[39m'\u001b[39m\u001b[39m..\u001b[39m\u001b[39m'\u001b[39m, \u001b[39m'\u001b[39m\u001b[39mResources\u001b[39m\u001b[39m'\u001b[39m,\u001b[39m'\u001b[39m\u001b[39mPyPoll_Results.txt\u001b[39m\u001b[39m'\u001b[39m)\n\u001b[1;32m      <a href='vscode-notebook-cell:/Users/madisonhamby/Documents/UCI%20Data%20Analytics%20Bootcamp/python-challenge/Starter_Code/PyPoll/Resources/pypoll.ipynb#X12sZmlsZQ%3D%3D?line=4'>5</a>\u001b[0m \u001b[39mwith\u001b[39;00m \u001b[39mopen\u001b[39m(output_file, \u001b[39m\"\u001b[39m\u001b[39mw\u001b[39m\u001b[39m\"\u001b[39m) \u001b[39mas\u001b[39;00m file: \n\u001b[1;32m      <a href='vscode-notebook-cell:/Users/madisonhamby/Documents/UCI%20Data%20Analytics%20Bootcamp/python-challenge/Starter_Code/PyPoll/Resources/pypoll.ipynb#X12sZmlsZQ%3D%3D?line=5'>6</a>\u001b[0m     file\u001b[39m.\u001b[39mwrite(\u001b[39mf\u001b[39m\u001b[39m\"\u001b[39m\u001b[39mElection Results\u001b[39m\u001b[39m\"\u001b[39m)\n",
      "\u001b[0;31mNameError\u001b[0m: name 'Path' is not defined"
     ]
    }
   ],
   "source": [
    "# Export the results to a text file\n",
    "\n",
    "output_file=Path('..', 'Resources','PyPoll_Results.txt')\n",
    "\n",
    "with open(output_file, \"w\") as file: \n",
    "    file.write(f\"Election Results\")\n",
    "file.write(\"\\n\")\n",
    "file.write(f\"-------------\")\n",
    "file.write(\"\\n\")\n",
    "file.write(f\"Total Votes: {total_votes}\")\n",
    "file.write(\"\\n\")\n",
    "file.write(f\"-------------\")\n",
    "file.write(\"\\n\")\n",
    "file.write(f\"Stockham:\" + \" \" + str(round(percentage_votes[1],3))+ \"%\" + \"(\"+str(candidate_count[1])+\")\")\n",
    "file.write(\"\\n\")\n",
    "file.write(f\"Degette:\" + \" \" + str(round(percentage_votes[0],3))+ \"%\" + \"(\"+str(candidate_count[0])+\")\")\n",
    "file.write(\"\\n\")\n",
    "file.write(f\"Doane:\" + \" \" + str(round(percentage_votes[2],3))+ \"%\" + \"(\"+str(candidate_count[2])+\")\")\n",
    "file.write(\"\\n\")\n",
    "file.write(f\"-------------\")\n",
    "file.write(\"\\n\")\n",
    "file.write(f\"Winner:\" + winner)\n",
    "file.write(f\"-------------\")\n",
    "\n",
    "\n",
    "\n",
    "\n",
    "\n"
   ]
  }
 ],
 "metadata": {
  "kernelspec": {
   "display_name": "base",
   "language": "python",
   "name": "python3"
  },
  "language_info": {
   "codemirror_mode": {
    "name": "ipython",
    "version": 3
   },
   "file_extension": ".py",
   "mimetype": "text/x-python",
   "name": "python",
   "nbconvert_exporter": "python",
   "pygments_lexer": "ipython3",
   "version": "3.11.5"
  },
  "orig_nbformat": 4
 },
 "nbformat": 4,
 "nbformat_minor": 2
}
