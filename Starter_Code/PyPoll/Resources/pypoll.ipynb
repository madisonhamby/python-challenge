{
 "cells": [
  {
   "cell_type": "code",
   "execution_count": 8,
   "metadata": {},
   "outputs": [],
   "source": [
    "#Dependencies\n",
    "import pandas as pd\n",
    "from pathlib import Path\n"
   ]
  },
  {
   "cell_type": "code",
   "execution_count": 9,
   "metadata": {},
   "outputs": [],
   "source": [
    "# Store filepath in a variable\n",
    "election_file=Path('..', 'Resources', 'election_data.csv')"
   ]
  },
  {
   "cell_type": "code",
   "execution_count": 10,
   "metadata": {},
   "outputs": [],
   "source": [
    "# Read our data file with the Pandas library\n",
    "\n",
    "election_file_df=pd.read_csv(election_file)\n"
   ]
  },
  {
   "cell_type": "code",
   "execution_count": 11,
   "metadata": {},
   "outputs": [
    {
     "data": {
      "text/plain": [
       "369711"
      ]
     },
     "execution_count": 11,
     "metadata": {},
     "output_type": "execute_result"
    }
   ],
   "source": [
    "# Calculate the total number of votes\n",
    "\n",
    "total_votes=len(election_file_df)\n",
    "total_votes"
   ]
  },
  {
   "cell_type": "code",
   "execution_count": 12,
   "metadata": {},
   "outputs": [
    {
     "data": {
      "text/plain": [
       "Candidate\n",
       "Diana DeGette              272892\n",
       "Charles Casper Stockham     85213\n",
       "Raymon Anthony Doane        11606\n",
       "Name: count, dtype: int64"
      ]
     },
     "execution_count": 12,
     "metadata": {},
     "output_type": "execute_result"
    }
   ],
   "source": [
    "# Calculate the number of candidates and their votes\n",
    "candidate_count=election_file_df[\"Candidate\"].value_counts()\n",
    "candidate_count"
   ]
  },
  {
   "cell_type": "code",
   "execution_count": 13,
   "metadata": {},
   "outputs": [
    {
     "data": {
      "text/plain": [
       "Candidate\n",
       "Diana DeGette              73.812248\n",
       "Charles Casper Stockham    23.048543\n",
       "Raymon Anthony Doane        3.139209\n",
       "Name: count, dtype: float64"
      ]
     },
     "execution_count": 13,
     "metadata": {},
     "output_type": "execute_result"
    }
   ],
   "source": [
    "# Calculate the percentage of votes each candidate has \n",
    "\n",
    "percentage_votes=(candidate_count / total_votes)*100\n",
    "percentage_votes"
   ]
  },
  {
   "cell_type": "code",
   "execution_count": 14,
   "metadata": {},
   "outputs": [
    {
     "data": {
      "text/plain": [
       "'Diana DeGette'"
      ]
     },
     "execution_count": 14,
     "metadata": {},
     "output_type": "execute_result"
    }
   ],
   "source": [
    "# Determine the winner \n",
    "winner=candidate_count.idxmax()\n",
    "winner"
   ]
  },
  {
   "cell_type": "code",
   "execution_count": 15,
   "metadata": {},
   "outputs": [
    {
     "name": "stdout",
     "output_type": "stream",
     "text": [
      "Election Results\n",
      "-------------------------------\n",
      "Total Votes: 369711\n",
      "-------------------------------\n",
      "Stockham 23.049%(85213)\n",
      "Degette 73.812%(272892)\n",
      "Doane 3.139%(11606)\n",
      "-------------------------------\n",
      "Winner: Diana DeGette\n",
      "-------------------------------\n"
     ]
    }
   ],
   "source": [
    "# Print the results\n",
    "print(f\"Election Results\")\n",
    "print(f\"-------------------------------\")\n",
    "print(f\"Total Votes: {total_votes}\")\n",
    "print(f\"-------------------------------\")\n",
    "print(f\"Stockham\" + \" \" + str(round(percentage_votes[1],3)) + \"%\" + \"(\"+str(candidate_count[1])+\")\")\n",
    "print(f\"Degette\" + \" \" + str(round(percentage_votes[0],3)) + \"%\" + \"(\"+str(candidate_count[0])+\")\")\n",
    "print(f\"Doane\" + \" \" + str(round(percentage_votes[2],3)) + \"%\" + \"(\"+str(candidate_count[2])+\")\")\n",
    "print(f\"-------------------------------\")\n",
    "print(\"Winner: \" + winner)\n",
    "print(f\"-------------------------------\")"
   ]
  },
  {
   "cell_type": "code",
   "execution_count": 18,
   "metadata": {},
   "outputs": [],
   "source": [
    "# Export results to text file \n",
    "\n",
    "file=open('pypoll_results.txt','w')\n",
    "file.write(f\"Election Results\")\n",
    "file.write(\"\\n\")\n",
    "file.write(f\"-------------\")\n",
    "file.write(\"\\n\")\n",
    "file.write(f\"Total Votes: {total_votes}\")\n",
    "file.write(\"\\n\")\n",
    "file.write(f\"-------------\")\n",
    "file.write(\"\\n\")\n",
    "file.write(f\"Charles Casper Stockham:\" + \" \" + str(round(percentage_votes[1],3))+ \"%\" + \"(\"+str(candidate_count[1])+\")\")\n",
    "file.write(\"\\n\")\n",
    "file.write(f\"Diana Degette:\" + \" \" + str(round(percentage_votes[0],3))+ \"%\" + \"(\"+str(candidate_count[0])+\")\")\n",
    "file.write(\"\\n\")\n",
    "file.write(f\"Raymon Anthony Doane:\" + \" \" + str(round(percentage_votes[2],3))+ \"%\" + \"(\"+str(candidate_count[2])+\")\")\n",
    "file.write(\"\\n\")\n",
    "file.write(f\"-------------\")\n",
    "file.write(\"\\n\")\n",
    "file.write(f\"Winner:\" + winner)\n",
    "file.write(\"\\n\")\n",
    "file.write(f\"-------------\")\n",
    "file.close()\n"
   ]
  }
 ],
 "metadata": {
  "kernelspec": {
   "display_name": "base",
   "language": "python",
   "name": "python3"
  },
  "language_info": {
   "codemirror_mode": {
    "name": "ipython",
    "version": 3
   },
   "file_extension": ".py",
   "mimetype": "text/x-python",
   "name": "python",
   "nbconvert_exporter": "python",
   "pygments_lexer": "ipython3",
   "version": "3.11.5"
  },
  "orig_nbformat": 4
 },
 "nbformat": 4,
 "nbformat_minor": 2
}
