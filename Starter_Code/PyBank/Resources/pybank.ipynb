{
 "cells": [
  {
   "cell_type": "code",
   "execution_count": 55,
   "metadata": {},
   "outputs": [],
   "source": [
    "import os\n",
    "import csv"
   ]
  },
  {
   "cell_type": "code",
   "execution_count": 56,
   "metadata": {},
   "outputs": [],
   "source": [
    "#set path for csv finder\n",
    "filepath=os.path.join('..', 'Resources', 'budget_data.csv')\n"
   ]
  },
  {
   "cell_type": "code",
   "execution_count": 57,
   "metadata": {},
   "outputs": [
    {
     "name": "stdout",
     "output_type": "stream",
     "text": [
      "open the file\n"
     ]
    }
   ],
   "source": [
    "#open csv file\n",
    "with open(filepath) as bank_file: \n",
    "    print(\"open the file\")"
   ]
  },
  {
   "cell_type": "code",
   "execution_count": 62,
   "metadata": {},
   "outputs": [],
   "source": [
    "# create empty list to store data\n",
    "total_months=[]\n",
    "total_profit=[]\n",
    "monthly_profit_change=[]\n"
   ]
  },
  {
   "cell_type": "code",
   "execution_count": null,
   "metadata": {},
   "outputs": [],
   "source": [
    "# test \n",
    "with open(filepath) as bank_file:\n",
    "\n",
    "    # CSV reader specifies delimiter and variable that holds contents\n",
    "    csvreader = csv.reader(bank_file, delimiter = ',')\n",
    "\n",
    "    print(csvreader)\n",
    "\n",
    "    # Read the header row first (skip this step if there is no header)\n",
    "    csv_header = next(csvreader)\n",
    "    print(f\"CSV Header: {csv_header}\")\n",
    "\n",
    "    # Read each row of data after the header\n",
    "    # Loop through data and store in dictionary\n",
    "    for row in csvreader:\n",
    "        print(row)"
   ]
  },
  {
   "cell_type": "code",
   "execution_count": 63,
   "metadata": {},
   "outputs": [
    {
     "name": "stdout",
     "output_type": "stream",
     "text": [
      "<_csv.reader object at 0x1148be2d0>\n"
     ]
    }
   ],
   "source": [
    "with open(filepath) as bank_file:\n",
    "\n",
    "    # CSV reader specifies delimiter and variable that holds contents\n",
    "    csvreader = csv.reader(bank_file, delimiter = ',')\n",
    "\n",
    "    print(csvreader)\n",
    "\n",
    "    # Read the header row first (skip this step if there is no header)\n",
    "    csv_header = next(csvreader)\n",
    "\n",
    "    # Read each row of data after the header\n",
    "    # Iterate through rows and store data in lists\n",
    "    \n",
    "    for row in csvreader:\n",
    "        total_months.append(row[0])\n",
    "        total_profit.append(int(row[1]))\n",
    "\n",
    "\n",
    "\n",
    "        "
   ]
  },
  {
   "cell_type": "code",
   "execution_count": 64,
   "metadata": {},
   "outputs": [],
   "source": [
    "#Calculate total number of months included in data set\n",
    "\n",
    "for i in range(len(total_profit)-1):\n",
    "    # calculate difference between two months and append to monthly profit change\n",
    "    monthly_profit_change.append(total_profit[i+1] - total_profit[i])"
   ]
  },
  {
   "cell_type": "code",
   "execution_count": 65,
   "metadata": {},
   "outputs": [],
   "source": [
    "# calculate the greatest increase in profits over entire period\n",
    "\n",
    "max_increase_value=max(monthly_profit_change)"
   ]
  },
  {
   "cell_type": "code",
   "execution_count": 66,
   "metadata": {},
   "outputs": [],
   "source": [
    "# calculate greatest decrease in profits over entire period\n",
    "\n",
    "max_decrease_value=min(monthly_profit_change)\n"
   ]
  },
  {
   "cell_type": "code",
   "execution_count": 67,
   "metadata": {},
   "outputs": [],
   "source": [
    "# calculate the changes in profits/losses over entire period\n",
    "# calculate the average of changes\n",
    "#we + 1 at the end since month associated wiht change is the next mnonth \n",
    "\n",
    "max_increase_month=monthly_profit_change.index(max(monthly_profit_change))+1\n",
    "max_decrease_month=monthly_profit_change.index(min(monthly_profit_change))+1"
   ]
  },
  {
   "cell_type": "code",
   "execution_count": null,
   "metadata": {},
   "outputs": [],
   "source": [
    "# print the results\n",
    "\n",
    "print(\"Financial Analysis\")\n",
    "print(\"---------------------------------\")\n",
    "print(f\"Total Months: {len(total_months)}\")\n",
    "print(f\"Total: ${sum(total_profit)}\")\n",
    "print(f\"Average Change: {round(sum(monthly_profit_change)/len(monthly_profit_change),2)}\")\n",
    "print(f\"Greatest Increase in Profits: {total_months[max_increase_month]} (${str(max_increase_value)})\")\n",
    "print(f\"Greatest Decrease in Profits: {total_months[max_decrease_month]} (${str(max_decrease_month)})\")"
   ]
  },
  {
   "cell_type": "code",
   "execution_count": 69,
   "metadata": {},
   "outputs": [
    {
     "ename": "NameError",
     "evalue": "name 'Path' is not defined",
     "output_type": "error",
     "traceback": [
      "\u001b[0;31m---------------------------------------------------------------------------\u001b[0m",
      "\u001b[0;31mNameError\u001b[0m                                 Traceback (most recent call last)",
      "\u001b[1;32m/Users/madisonhamby/Documents/UCI Data Analytics Bootcamp/python-challenge/Starter_Code/PyBank/Resources/pybank.ipynb Cell 12\u001b[0m line \u001b[0;36m3\n\u001b[1;32m      <a href='vscode-notebook-cell:/Users/madisonhamby/Documents/UCI%20Data%20Analytics%20Bootcamp/python-challenge/Starter_Code/PyBank/Resources/pybank.ipynb#X24sZmlsZQ%3D%3D?line=0'>1</a>\u001b[0m \u001b[39m# Export text file with the results \u001b[39;00m\n\u001b[0;32m----> <a href='vscode-notebook-cell:/Users/madisonhamby/Documents/UCI%20Data%20Analytics%20Bootcamp/python-challenge/Starter_Code/PyBank/Resources/pybank.ipynb#X24sZmlsZQ%3D%3D?line=2'>3</a>\u001b[0m output_file\u001b[39m=\u001b[39mPath(\u001b[39m'\u001b[39m\u001b[39m..\u001b[39m\u001b[39m'\u001b[39m, \u001b[39m'\u001b[39m\u001b[39mPyBank/Resources\u001b[39m\u001b[39m'\u001b[39m, \u001b[39m\"\u001b[39m\u001b[39mPyBank_Results.txt\u001b[39m\u001b[39m\"\u001b[39m)\n\u001b[1;32m      <a href='vscode-notebook-cell:/Users/madisonhamby/Documents/UCI%20Data%20Analytics%20Bootcamp/python-challenge/Starter_Code/PyBank/Resources/pybank.ipynb#X24sZmlsZQ%3D%3D?line=4'>5</a>\u001b[0m \u001b[39mwith\u001b[39;00m \u001b[39mopen\u001b[39m(output_file,\u001b[39m\"\u001b[39m\u001b[39mw\u001b[39m\u001b[39m\"\u001b[39m) \u001b[39mas\u001b[39;00m file:\n\u001b[1;32m      <a href='vscode-notebook-cell:/Users/madisonhamby/Documents/UCI%20Data%20Analytics%20Bootcamp/python-challenge/Starter_Code/PyBank/Resources/pybank.ipynb#X24sZmlsZQ%3D%3D?line=5'>6</a>\u001b[0m \n\u001b[1;32m      <a href='vscode-notebook-cell:/Users/madisonhamby/Documents/UCI%20Data%20Analytics%20Bootcamp/python-challenge/Starter_Code/PyBank/Resources/pybank.ipynb#X24sZmlsZQ%3D%3D?line=6'>7</a>\u001b[0m     \u001b[39m#write methods to print to PyBank_Results.txt\u001b[39;00m\n\u001b[1;32m      <a href='vscode-notebook-cell:/Users/madisonhamby/Documents/UCI%20Data%20Analytics%20Bootcamp/python-challenge/Starter_Code/PyBank/Resources/pybank.ipynb#X24sZmlsZQ%3D%3D?line=7'>8</a>\u001b[0m     file\u001b[39m.\u001b[39mwrite(\u001b[39m\"\u001b[39m\u001b[39mFinancial Analysis\u001b[39m\u001b[39m\"\u001b[39m)\n",
      "\u001b[0;31mNameError\u001b[0m: name 'Path' is not defined"
     ]
    }
   ],
   "source": [
    "# Export text file with the results \n",
    "\n",
    "output_file=Path('..', 'PyBank/Resources', \"PyBank_Results.txt\")\n",
    "\n",
    "with open(output_file,\"w\") as file:\n",
    "\n",
    "    #write methods to print to PyBank_Results.txt\n",
    "    file.write(\"Financial Analysis\")\n",
    "    file.write(\"\\n\")\n",
    "    file.write(\"-------------\")\n",
    "    file.write(\"\\n\")\n",
    "    file.write(f\"Total Months: {len(total_months)}\")\n",
    "    file.write(\"\\n\")\n",
    "    file.write(f\"Total: ${sum(total_profit)}\")\n",
    "    file.write(\"\\n\")\n",
    "    file.write(f\"Average Change: {round(sum(monthly_profit_change)/len(monthly_profit_change),2)}\")\n",
    "    file.write(\"\\n\")\n",
    "    file.write(f\"Greatest Increase in Profits: {total_months[max_increase_month]} (${(str(max_increase_value))})\")\n",
    "    file.write(\"\\n\")\n",
    "    file.write(f\"Greatest Decrease in Profits: {total_months[max_decrease_month]} (${(str(max_decrease_value))})\")\n",
    "    "
   ]
  }
 ],
 "metadata": {
  "kernelspec": {
   "display_name": "Python 3",
   "language": "python",
   "name": "python3"
  },
  "language_info": {
   "codemirror_mode": {
    "name": "ipython",
    "version": 3
   },
   "file_extension": ".py",
   "mimetype": "text/x-python",
   "name": "python",
   "nbconvert_exporter": "python",
   "pygments_lexer": "ipython3",
   "version": "3.11.5"
  },
  "orig_nbformat": 4
 },
 "nbformat": 4,
 "nbformat_minor": 2
}
