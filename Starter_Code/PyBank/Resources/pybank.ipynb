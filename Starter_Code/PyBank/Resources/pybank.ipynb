{
 "cells": [
  {
   "cell_type": "code",
   "execution_count": 72,
   "metadata": {},
   "outputs": [],
   "source": [
    "import os\n",
    "import csv"
   ]
  },
  {
   "cell_type": "code",
   "execution_count": 73,
   "metadata": {},
   "outputs": [],
   "source": [
    "#set path for csv finder\n",
    "filepath=os.path.join('..', 'Resources', 'budget_data.csv')\n"
   ]
  },
  {
   "cell_type": "code",
   "execution_count": 74,
   "metadata": {},
   "outputs": [
    {
     "name": "stdout",
     "output_type": "stream",
     "text": [
      "open the file\n"
     ]
    }
   ],
   "source": [
    "#open csv file\n",
    "with open(filepath) as bank_file: \n",
    "    print(\"open the file\")"
   ]
  },
  {
   "cell_type": "code",
   "execution_count": 75,
   "metadata": {},
   "outputs": [],
   "source": [
    "# create empty list to store data\n",
    "total_months=[]\n",
    "total_profit=[]\n",
    "monthly_profit_change=[]\n"
   ]
  },
  {
   "cell_type": "code",
   "execution_count": 76,
   "metadata": {},
   "outputs": [
    {
     "name": "stdout",
     "output_type": "stream",
     "text": [
      "<_csv.reader object at 0x1148be650>\n"
     ]
    }
   ],
   "source": [
    "with open(filepath) as bank_file:\n",
    "\n",
    "    # CSV reader specifies delimiter and variable that holds contents\n",
    "    csvreader = csv.reader(bank_file, delimiter = ',')\n",
    "\n",
    "    print(csvreader)\n",
    "\n",
    "    # Read the header row first (skip this step if there is no header)\n",
    "    csv_header = next(csvreader)\n",
    "\n",
    "    # Read each row of data after the header\n",
    "    # Iterate through rows and store data in lists\n",
    "    \n",
    "    for row in csvreader:\n",
    "        total_months.append(row[0])\n",
    "        total_profit.append(int(row[1]))\n",
    "\n",
    "\n",
    "\n",
    "        "
   ]
  },
  {
   "cell_type": "code",
   "execution_count": 77,
   "metadata": {},
   "outputs": [],
   "source": [
    "#Calculate total number of months included in data set\n",
    "\n",
    "for i in range(len(total_profit)-1):\n",
    "    # calculate difference between two months and append to monthly profit change\n",
    "    monthly_profit_change.append(total_profit[i+1] - total_profit[i])"
   ]
  },
  {
   "cell_type": "code",
   "execution_count": 78,
   "metadata": {},
   "outputs": [],
   "source": [
    "# calculate the greatest increase in profits over entire period\n",
    "\n",
    "max_increase_value=max(monthly_profit_change)"
   ]
  },
  {
   "cell_type": "code",
   "execution_count": 79,
   "metadata": {},
   "outputs": [],
   "source": [
    "# calculate greatest decrease in profits over entire period\n",
    "\n",
    "max_decrease_value=min(monthly_profit_change)\n"
   ]
  },
  {
   "cell_type": "code",
   "execution_count": 80,
   "metadata": {},
   "outputs": [],
   "source": [
    "# calculate the changes in profits/losses over entire period\n",
    "# calculate the average of changes\n",
    "#we + 1 at the end since month associated wiht change is the next mnonth \n",
    "\n",
    "max_increase_month=monthly_profit_change.index(max(monthly_profit_change))+1\n",
    "max_decrease_month=monthly_profit_change.index(min(monthly_profit_change))+1"
   ]
  },
  {
   "cell_type": "code",
   "execution_count": 81,
   "metadata": {},
   "outputs": [
    {
     "name": "stdout",
     "output_type": "stream",
     "text": [
      "Financial Analysis\n",
      "---------------------------------\n",
      "Total Months: 86\n",
      "Total: $22564198\n",
      "Average Change: -8311.11\n",
      "Greatest Increase in Profits: Aug-16 ($1862002)\n",
      "Greatest Decrease in Profits: Feb-14 ($49)\n"
     ]
    }
   ],
   "source": [
    "# print the results\n",
    "\n",
    "print(\"Financial Analysis\")\n",
    "print(\"---------------------------------\")\n",
    "print(f\"Total Months: {len(total_months)}\")\n",
    "print(f\"Total: ${sum(total_profit)}\")\n",
    "print(f\"Average Change: {round(sum(monthly_profit_change)/len(monthly_profit_change),2)}\")\n",
    "print(f\"Greatest Increase in Profits: {total_months[max_increase_month]} (${str(max_increase_value)})\")\n",
    "print(f\"Greatest Decrease in Profits: {total_months[max_decrease_month]} (${str(max_decrease_month)})\")"
   ]
  },
  {
   "cell_type": "code",
   "execution_count": 82,
   "metadata": {},
   "outputs": [],
   "source": [
    "# Export text file with the results \n",
    "\n",
    "output_file=os.path.join('..', 'Resources', \"PyBank_Results.txt\")\n",
    "\n",
    "with open(output_file,\"w\") as file:\n",
    "\n",
    "    #write methods to print to PyBank_Results.txt\n",
    "    file.write(\"Financial Analysis\")\n",
    "    file.write(\"\\n\")\n",
    "    file.write(\"-------------\")\n",
    "    file.write(\"\\n\")\n",
    "    file.write(f\"Total Months: {len(total_months)}\")\n",
    "    file.write(\"\\n\")\n",
    "    file.write(f\"Total: ${sum(total_profit)}\")\n",
    "    file.write(\"\\n\")\n",
    "    file.write(f\"Average Change: {round(sum(monthly_profit_change)/len(monthly_profit_change),2)}\")\n",
    "    file.write(\"\\n\")\n",
    "    file.write(f\"Greatest Increase in Profits: {total_months[max_increase_month]} (${(str(max_increase_value))})\")\n",
    "    file.write(\"\\n\")\n",
    "    file.write(f\"Greatest Decrease in Profits: {total_months[max_decrease_month]} (${(str(max_decrease_value))})\")\n",
    "    "
   ]
  }
 ],
 "metadata": {
  "kernelspec": {
   "display_name": "Python 3",
   "language": "python",
   "name": "python3"
  },
  "language_info": {
   "codemirror_mode": {
    "name": "ipython",
    "version": 3
   },
   "file_extension": ".py",
   "mimetype": "text/x-python",
   "name": "python",
   "nbconvert_exporter": "python",
   "pygments_lexer": "ipython3",
   "version": "3.11.5"
  },
  "orig_nbformat": 4
 },
 "nbformat": 4,
 "nbformat_minor": 2
}
